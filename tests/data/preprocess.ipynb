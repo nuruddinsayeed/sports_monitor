{
 "cells": [
  {
   "cell_type": "code",
   "execution_count": 31,
   "metadata": {},
   "outputs": [],
   "source": [
    "import pandas as pd"
   ]
  },
  {
   "cell_type": "code",
   "execution_count": 32,
   "metadata": {},
   "outputs": [
    {
     "name": "stderr",
     "output_type": "stream",
     "text": [
      "/var/folders/l1/k5_0yqz17fggkd71c1_xqvkw0000gn/T/ipykernel_12776/1988568577.py:1: DtypeWarning: Columns (2) have mixed types. Specify dtype option on import or set low_memory=False.\n",
      "  data = pd.read_csv(\"wisdm.csv\")\n"
     ]
    }
   ],
   "source": [
    "data = pd.read_csv(\"wisdm.csv\")"
   ]
  },
  {
   "cell_type": "code",
   "execution_count": 33,
   "metadata": {},
   "outputs": [
    {
     "data": {
      "text/html": [
       "<div>\n",
       "<style scoped>\n",
       "    .dataframe tbody tr th:only-of-type {\n",
       "        vertical-align: middle;\n",
       "    }\n",
       "\n",
       "    .dataframe tbody tr th {\n",
       "        vertical-align: top;\n",
       "    }\n",
       "\n",
       "    .dataframe thead th {\n",
       "        text-align: right;\n",
       "    }\n",
       "</style>\n",
       "<table border=\"1\" class=\"dataframe\">\n",
       "  <thead>\n",
       "    <tr style=\"text-align: right;\">\n",
       "      <th></th>\n",
       "      <th>user_id</th>\n",
       "      <th>activity_class</th>\n",
       "      <th>tiemstamp</th>\n",
       "      <th>x</th>\n",
       "      <th>y</th>\n",
       "      <th>z</th>\n",
       "    </tr>\n",
       "  </thead>\n",
       "  <tbody>\n",
       "    <tr>\n",
       "      <th>0</th>\n",
       "      <td>1679</td>\n",
       "      <td>Walking</td>\n",
       "      <td>1370520469556</td>\n",
       "      <td>0.294132</td>\n",
       "      <td>-0.635605</td>\n",
       "      <td>-0.22693644;</td>\n",
       "    </tr>\n",
       "    <tr>\n",
       "      <th>1</th>\n",
       "      <td>1679</td>\n",
       "      <td>Walking</td>\n",
       "      <td>1370520469606</td>\n",
       "      <td>-0.499688</td>\n",
       "      <td>-0.604451</td>\n",
       "      <td>-0.22602014;</td>\n",
       "    </tr>\n",
       "    <tr>\n",
       "      <th>2</th>\n",
       "      <td>1679</td>\n",
       "      <td>Walking</td>\n",
       "      <td>1370520469656</td>\n",
       "      <td>-2.178345</td>\n",
       "      <td>0.713491</td>\n",
       "      <td>0.37201694;</td>\n",
       "    </tr>\n",
       "    <tr>\n",
       "      <th>3</th>\n",
       "      <td>1679</td>\n",
       "      <td>Walking</td>\n",
       "      <td>1370520469706</td>\n",
       "      <td>-2.797763</td>\n",
       "      <td>1.354899</td>\n",
       "      <td>-0.27763826;</td>\n",
       "    </tr>\n",
       "    <tr>\n",
       "      <th>4</th>\n",
       "      <td>1679</td>\n",
       "      <td>Walking</td>\n",
       "      <td>1370520469756</td>\n",
       "      <td>-2.167961</td>\n",
       "      <td>-1.327716</td>\n",
       "      <td>-0.5549711;</td>\n",
       "    </tr>\n",
       "  </tbody>\n",
       "</table>\n",
       "</div>"
      ],
      "text/plain": [
       "   user_id activity_class      tiemstamp         x         y             z\n",
       "0     1679        Walking  1370520469556  0.294132 -0.635605  -0.22693644;\n",
       "1     1679        Walking  1370520469606 -0.499688 -0.604451  -0.22602014;\n",
       "2     1679        Walking  1370520469656 -2.178345  0.713491   0.37201694;\n",
       "3     1679        Walking  1370520469706 -2.797763  1.354899  -0.27763826;\n",
       "4     1679        Walking  1370520469756 -2.167961 -1.327716   -0.5549711;"
      ]
     },
     "execution_count": 33,
     "metadata": {},
     "output_type": "execute_result"
    }
   ],
   "source": [
    "data.head()"
   ]
  },
  {
   "cell_type": "code",
   "execution_count": 34,
   "metadata": {},
   "outputs": [
    {
     "data": {
      "text/plain": [
       "(3005411, 6)"
      ]
     },
     "execution_count": 34,
     "metadata": {},
     "output_type": "execute_result"
    }
   ],
   "source": [
    "data.shape"
   ]
  },
  {
   "cell_type": "code",
   "execution_count": 35,
   "metadata": {},
   "outputs": [
    {
     "data": {
      "text/html": [
       "<div>\n",
       "<style scoped>\n",
       "    .dataframe tbody tr th:only-of-type {\n",
       "        vertical-align: middle;\n",
       "    }\n",
       "\n",
       "    .dataframe tbody tr th {\n",
       "        vertical-align: top;\n",
       "    }\n",
       "\n",
       "    .dataframe thead th {\n",
       "        text-align: right;\n",
       "    }\n",
       "</style>\n",
       "<table border=\"1\" class=\"dataframe\">\n",
       "  <thead>\n",
       "    <tr style=\"text-align: right;\">\n",
       "      <th></th>\n",
       "      <th>user_id</th>\n",
       "      <th>activity_class</th>\n",
       "      <th>x</th>\n",
       "      <th>y</th>\n",
       "      <th>z</th>\n",
       "    </tr>\n",
       "  </thead>\n",
       "  <tbody>\n",
       "    <tr>\n",
       "      <th>0</th>\n",
       "      <td>1679</td>\n",
       "      <td>Walking</td>\n",
       "      <td>0.294132</td>\n",
       "      <td>-0.635605</td>\n",
       "      <td>-0.22693644;</td>\n",
       "    </tr>\n",
       "    <tr>\n",
       "      <th>1</th>\n",
       "      <td>1679</td>\n",
       "      <td>Walking</td>\n",
       "      <td>-0.499688</td>\n",
       "      <td>-0.604451</td>\n",
       "      <td>-0.22602014;</td>\n",
       "    </tr>\n",
       "    <tr>\n",
       "      <th>2</th>\n",
       "      <td>1679</td>\n",
       "      <td>Walking</td>\n",
       "      <td>-2.178345</td>\n",
       "      <td>0.713491</td>\n",
       "      <td>0.37201694;</td>\n",
       "    </tr>\n",
       "    <tr>\n",
       "      <th>3</th>\n",
       "      <td>1679</td>\n",
       "      <td>Walking</td>\n",
       "      <td>-2.797763</td>\n",
       "      <td>1.354899</td>\n",
       "      <td>-0.27763826;</td>\n",
       "    </tr>\n",
       "    <tr>\n",
       "      <th>4</th>\n",
       "      <td>1679</td>\n",
       "      <td>Walking</td>\n",
       "      <td>-2.167961</td>\n",
       "      <td>-1.327716</td>\n",
       "      <td>-0.5549711;</td>\n",
       "    </tr>\n",
       "  </tbody>\n",
       "</table>\n",
       "</div>"
      ],
      "text/plain": [
       "   user_id activity_class         x         y             z\n",
       "0     1679        Walking  0.294132 -0.635605  -0.22693644;\n",
       "1     1679        Walking -0.499688 -0.604451  -0.22602014;\n",
       "2     1679        Walking -2.178345  0.713491   0.37201694;\n",
       "3     1679        Walking -2.797763  1.354899  -0.27763826;\n",
       "4     1679        Walking -2.167961 -1.327716   -0.5549711;"
      ]
     },
     "execution_count": 35,
     "metadata": {},
     "output_type": "execute_result"
    }
   ],
   "source": [
    "data.drop(\"tiemstamp\", inplace=True, axis=1)\n",
    "data.head()"
   ]
  },
  {
   "cell_type": "code",
   "execution_count": 36,
   "metadata": {},
   "outputs": [
    {
     "data": {
      "text/html": [
       "<div>\n",
       "<style scoped>\n",
       "    .dataframe tbody tr th:only-of-type {\n",
       "        vertical-align: middle;\n",
       "    }\n",
       "\n",
       "    .dataframe tbody tr th {\n",
       "        vertical-align: top;\n",
       "    }\n",
       "\n",
       "    .dataframe thead th {\n",
       "        text-align: right;\n",
       "    }\n",
       "</style>\n",
       "<table border=\"1\" class=\"dataframe\">\n",
       "  <thead>\n",
       "    <tr style=\"text-align: right;\">\n",
       "      <th></th>\n",
       "      <th>user_id</th>\n",
       "      <th>activity_class</th>\n",
       "      <th>x</th>\n",
       "      <th>y</th>\n",
       "      <th>z</th>\n",
       "    </tr>\n",
       "  </thead>\n",
       "  <tbody>\n",
       "    <tr>\n",
       "      <th>0</th>\n",
       "      <td>1679</td>\n",
       "      <td>walking</td>\n",
       "      <td>0.294132</td>\n",
       "      <td>-0.635605</td>\n",
       "      <td>-0.22693644;</td>\n",
       "    </tr>\n",
       "    <tr>\n",
       "      <th>1</th>\n",
       "      <td>1679</td>\n",
       "      <td>walking</td>\n",
       "      <td>-0.499688</td>\n",
       "      <td>-0.604451</td>\n",
       "      <td>-0.22602014;</td>\n",
       "    </tr>\n",
       "    <tr>\n",
       "      <th>2</th>\n",
       "      <td>1679</td>\n",
       "      <td>walking</td>\n",
       "      <td>-2.178345</td>\n",
       "      <td>0.713491</td>\n",
       "      <td>0.37201694;</td>\n",
       "    </tr>\n",
       "    <tr>\n",
       "      <th>3</th>\n",
       "      <td>1679</td>\n",
       "      <td>walking</td>\n",
       "      <td>-2.797763</td>\n",
       "      <td>1.354899</td>\n",
       "      <td>-0.27763826;</td>\n",
       "    </tr>\n",
       "    <tr>\n",
       "      <th>4</th>\n",
       "      <td>1679</td>\n",
       "      <td>walking</td>\n",
       "      <td>-2.167961</td>\n",
       "      <td>-1.327716</td>\n",
       "      <td>-0.5549711;</td>\n",
       "    </tr>\n",
       "  </tbody>\n",
       "</table>\n",
       "</div>"
      ],
      "text/plain": [
       "   user_id activity_class         x         y             z\n",
       "0     1679        walking  0.294132 -0.635605  -0.22693644;\n",
       "1     1679        walking -0.499688 -0.604451  -0.22602014;\n",
       "2     1679        walking -2.178345  0.713491   0.37201694;\n",
       "3     1679        walking -2.797763  1.354899  -0.27763826;\n",
       "4     1679        walking -2.167961 -1.327716   -0.5549711;"
      ]
     },
     "execution_count": 36,
     "metadata": {},
     "output_type": "execute_result"
    }
   ],
   "source": [
    "data.loc[data.activity_class == \"Walking\", \"activity_class\"] = \"walking\"\n",
    "data.loc[data.activity_class == \"Sitting\", \"activity_class\"] = \"sitting\"\n",
    "data.loc[data.activity_class == \"Jogging\", \"activity_class\"] = \"jogging\"\n",
    "data.loc[data.activity_class == \"LyingDown\", \"activity_class\"] = \"fall_detected\"\n",
    "\n",
    "data.head()"
   ]
  },
  {
   "cell_type": "code",
   "execution_count": 37,
   "metadata": {},
   "outputs": [],
   "source": [
    "data[\"activityStatus\"] = \"normalActivity\""
   ]
  },
  {
   "cell_type": "code",
   "execution_count": 38,
   "metadata": {},
   "outputs": [],
   "source": [
    "data.loc[data.activity_class == \"fall_detected\", \"activityStatus\"] = \"dangerousActivity\" "
   ]
  },
  {
   "cell_type": "code",
   "execution_count": 39,
   "metadata": {},
   "outputs": [
    {
     "data": {
      "text/html": [
       "<div>\n",
       "<style scoped>\n",
       "    .dataframe tbody tr th:only-of-type {\n",
       "        vertical-align: middle;\n",
       "    }\n",
       "\n",
       "    .dataframe tbody tr th {\n",
       "        vertical-align: top;\n",
       "    }\n",
       "\n",
       "    .dataframe thead th {\n",
       "        text-align: right;\n",
       "    }\n",
       "</style>\n",
       "<table border=\"1\" class=\"dataframe\">\n",
       "  <thead>\n",
       "    <tr style=\"text-align: right;\">\n",
       "      <th></th>\n",
       "      <th>user_id</th>\n",
       "      <th>activity_class</th>\n",
       "      <th>x</th>\n",
       "      <th>y</th>\n",
       "      <th>z</th>\n",
       "      <th>activityStatus</th>\n",
       "    </tr>\n",
       "  </thead>\n",
       "  <tbody>\n",
       "    <tr>\n",
       "      <th>0</th>\n",
       "      <td>1679</td>\n",
       "      <td>walking</td>\n",
       "      <td>0.294132</td>\n",
       "      <td>-0.635605</td>\n",
       "      <td>-0.22693644;</td>\n",
       "      <td>normalActivity</td>\n",
       "    </tr>\n",
       "    <tr>\n",
       "      <th>1</th>\n",
       "      <td>1679</td>\n",
       "      <td>walking</td>\n",
       "      <td>-0.499688</td>\n",
       "      <td>-0.604451</td>\n",
       "      <td>-0.22602014;</td>\n",
       "      <td>normalActivity</td>\n",
       "    </tr>\n",
       "    <tr>\n",
       "      <th>2</th>\n",
       "      <td>1679</td>\n",
       "      <td>walking</td>\n",
       "      <td>-2.178345</td>\n",
       "      <td>0.713491</td>\n",
       "      <td>0.37201694;</td>\n",
       "      <td>normalActivity</td>\n",
       "    </tr>\n",
       "    <tr>\n",
       "      <th>3</th>\n",
       "      <td>1679</td>\n",
       "      <td>walking</td>\n",
       "      <td>-2.797763</td>\n",
       "      <td>1.354899</td>\n",
       "      <td>-0.27763826;</td>\n",
       "      <td>normalActivity</td>\n",
       "    </tr>\n",
       "    <tr>\n",
       "      <th>4</th>\n",
       "      <td>1679</td>\n",
       "      <td>walking</td>\n",
       "      <td>-2.167961</td>\n",
       "      <td>-1.327716</td>\n",
       "      <td>-0.5549711;</td>\n",
       "      <td>normalActivity</td>\n",
       "    </tr>\n",
       "  </tbody>\n",
       "</table>\n",
       "</div>"
      ],
      "text/plain": [
       "   user_id activity_class         x         y             z  activityStatus\n",
       "0     1679        walking  0.294132 -0.635605  -0.22693644;  normalActivity\n",
       "1     1679        walking -0.499688 -0.604451  -0.22602014;  normalActivity\n",
       "2     1679        walking -2.178345  0.713491   0.37201694;  normalActivity\n",
       "3     1679        walking -2.797763  1.354899  -0.27763826;  normalActivity\n",
       "4     1679        walking -2.167961 -1.327716   -0.5549711;  normalActivity"
      ]
     },
     "execution_count": 39,
     "metadata": {},
     "output_type": "execute_result"
    }
   ],
   "source": [
    "data.head()"
   ]
  },
  {
   "cell_type": "code",
   "execution_count": 40,
   "metadata": {},
   "outputs": [
    {
     "data": {
      "text/html": [
       "<div>\n",
       "<style scoped>\n",
       "    .dataframe tbody tr th:only-of-type {\n",
       "        vertical-align: middle;\n",
       "    }\n",
       "\n",
       "    .dataframe tbody tr th {\n",
       "        vertical-align: top;\n",
       "    }\n",
       "\n",
       "    .dataframe thead th {\n",
       "        text-align: right;\n",
       "    }\n",
       "</style>\n",
       "<table border=\"1\" class=\"dataframe\">\n",
       "  <thead>\n",
       "    <tr style=\"text-align: right;\">\n",
       "      <th></th>\n",
       "      <th>user_id</th>\n",
       "      <th>activity_class</th>\n",
       "      <th>x</th>\n",
       "      <th>y</th>\n",
       "      <th>z</th>\n",
       "      <th>activityStatus</th>\n",
       "    </tr>\n",
       "  </thead>\n",
       "  <tbody>\n",
       "    <tr>\n",
       "      <th>0</th>\n",
       "      <td>1679</td>\n",
       "      <td>walking</td>\n",
       "      <td>0.294132</td>\n",
       "      <td>-0.635605</td>\n",
       "      <td>-0.22693644</td>\n",
       "      <td>normalActivity</td>\n",
       "    </tr>\n",
       "    <tr>\n",
       "      <th>1</th>\n",
       "      <td>1679</td>\n",
       "      <td>walking</td>\n",
       "      <td>-0.499688</td>\n",
       "      <td>-0.604451</td>\n",
       "      <td>-0.22602014</td>\n",
       "      <td>normalActivity</td>\n",
       "    </tr>\n",
       "    <tr>\n",
       "      <th>2</th>\n",
       "      <td>1679</td>\n",
       "      <td>walking</td>\n",
       "      <td>-2.178345</td>\n",
       "      <td>0.713491</td>\n",
       "      <td>0.37201694</td>\n",
       "      <td>normalActivity</td>\n",
       "    </tr>\n",
       "    <tr>\n",
       "      <th>3</th>\n",
       "      <td>1679</td>\n",
       "      <td>walking</td>\n",
       "      <td>-2.797763</td>\n",
       "      <td>1.354899</td>\n",
       "      <td>-0.27763826</td>\n",
       "      <td>normalActivity</td>\n",
       "    </tr>\n",
       "    <tr>\n",
       "      <th>4</th>\n",
       "      <td>1679</td>\n",
       "      <td>walking</td>\n",
       "      <td>-2.167961</td>\n",
       "      <td>-1.327716</td>\n",
       "      <td>-0.5549711</td>\n",
       "      <td>normalActivity</td>\n",
       "    </tr>\n",
       "  </tbody>\n",
       "</table>\n",
       "</div>"
      ],
      "text/plain": [
       "   user_id activity_class         x         y            z  activityStatus\n",
       "0     1679        walking  0.294132 -0.635605  -0.22693644  normalActivity\n",
       "1     1679        walking -0.499688 -0.604451  -0.22602014  normalActivity\n",
       "2     1679        walking -2.178345  0.713491   0.37201694  normalActivity\n",
       "3     1679        walking -2.797763  1.354899  -0.27763826  normalActivity\n",
       "4     1679        walking -2.167961 -1.327716   -0.5549711  normalActivity"
      ]
     },
     "execution_count": 40,
     "metadata": {},
     "output_type": "execute_result"
    }
   ],
   "source": [
    "data[\"z\"] = data['z'].str.replace(r';', '')\n",
    "data.head()"
   ]
  },
  {
   "cell_type": "code",
   "execution_count": null,
   "metadata": {},
   "outputs": [],
   "source": []
  },
  {
   "cell_type": "code",
   "execution_count": 41,
   "metadata": {},
   "outputs": [],
   "source": [
    "data.to_csv(\"wisdm_processed.csv\", header=True, index=False)"
   ]
  }
 ],
 "metadata": {
  "kernelspec": {
   "display_name": "Python 3.10.5 ('.venv': venv)",
   "language": "python",
   "name": "python3"
  },
  "language_info": {
   "codemirror_mode": {
    "name": "ipython",
    "version": 3
   },
   "file_extension": ".py",
   "mimetype": "text/x-python",
   "name": "python",
   "nbconvert_exporter": "python",
   "pygments_lexer": "ipython3",
   "version": "3.10.5"
  },
  "orig_nbformat": 4,
  "vscode": {
   "interpreter": {
    "hash": "772fadc9ad6ba64412a357181495cf4c22b022a8e327f20a1fbe809943d1aa37"
   }
  }
 },
 "nbformat": 4,
 "nbformat_minor": 2
}
